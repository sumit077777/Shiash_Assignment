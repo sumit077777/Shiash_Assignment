{
 "cells": [
  {
   "cell_type": "markdown",
   "id": "575ae03c-9b65-4784-aea6-2265a0e9aa13",
   "metadata": {},
   "source": [
    "# __IC-1__"
   ]
  },
  {
   "cell_type": "markdown",
   "id": "331baeab-446c-484f-bb21-102143caf0d1",
   "metadata": {},
   "source": [
    "## 1)"
   ]
  },
  {
   "cell_type": "code",
   "execution_count": 2,
   "id": "1dbb174c-6888-4f4e-920e-00cc068106aa",
   "metadata": {},
   "outputs": [
    {
     "name": "stdin",
     "output_type": "stream",
     "text": [
      "enter the no : 48\n"
     ]
    },
    {
     "name": "stdout",
     "output_type": "stream",
     "text": [
      "48 is not divisible by 7\n"
     ]
    }
   ],
   "source": [
    "\n",
    "n=int(input(\"enter the no :\"))\n",
    "if(n%7==0):\n",
    "    print(n,\"is divisible by 7\")\n",
    "else:\n",
    "    print(n,\"is not divisible by 7\")\n",
    "      "
   ]
  },
  {
   "cell_type": "markdown",
   "id": "e3fc9242-dcc5-4121-bab9-0052574d1497",
   "metadata": {},
   "source": [
    "## 2)"
   ]
  },
  {
   "cell_type": "code",
   "execution_count": 4,
   "id": "e185c35a-d853-42dd-882a-66f65f42c339",
   "metadata": {},
   "outputs": [],
   "source": [
    "def great3(a,b,c):\n",
    "    if(a>b and a>c):\n",
    "        return a\n",
    "    elif(b>a and b>c):\n",
    "        return b\n",
    "    else:\n",
    "        return c"
   ]
  },
  {
   "cell_type": "code",
   "execution_count": 6,
   "id": "34096d75-77fc-4fab-9a26-5dd360074bf1",
   "metadata": {},
   "outputs": [
    {
     "name": "stdout",
     "output_type": "stream",
     "text": [
      "3\n"
     ]
    }
   ],
   "source": [
    "print(great3(1,3,2))"
   ]
  },
  {
   "cell_type": "markdown",
   "id": "46343496-a35f-485a-89d0-db17c6b7abc3",
   "metadata": {},
   "source": [
    "## 3)"
   ]
  },
  {
   "cell_type": "code",
   "execution_count": 8,
   "id": "591e2398-4f81-4da9-adeb-34df56ae8dc8",
   "metadata": {},
   "outputs": [],
   "source": [
    "def swap(a,b):\n",
    "    a,b=b,a\n",
    "    return a,b"
   ]
  },
  {
   "cell_type": "code",
   "execution_count": 11,
   "id": "f0e4c254-77b4-4178-9625-5d9ed3422579",
   "metadata": {},
   "outputs": [
    {
     "name": "stdout",
     "output_type": "stream",
     "text": [
      "a= 3 b= 2\n"
     ]
    }
   ],
   "source": [
    "a=2\n",
    "b=3\n",
    "a,b=swap(a,b)\n",
    "print(\"a=\",a,\"b=\",b)"
   ]
  },
  {
   "cell_type": "markdown",
   "id": "e716e6d4-6d26-4287-8392-9ed7e9ba07f3",
   "metadata": {},
   "source": [
    "## 4)"
   ]
  },
  {
   "cell_type": "code",
   "execution_count": 12,
   "id": "bb50f0e0-6010-40a0-b8bc-64c702dd27b9",
   "metadata": {},
   "outputs": [
    {
     "name": "stdout",
     "output_type": "stream",
     "text": [
      "False\n"
     ]
    }
   ],
   "source": [
    "print((54+90+43)*25==((0.9*8769)/0.8-(8**5)))"
   ]
  },
  {
   "cell_type": "markdown",
   "id": "99f7932c-2f8a-451d-85af-6394739744d0",
   "metadata": {},
   "source": [
    "## 5)"
   ]
  },
  {
   "cell_type": "code",
   "execution_count": 15,
   "id": "4f9631ac-39c0-4829-a722-7e94a94f1da7",
   "metadata": {},
   "outputs": [],
   "source": [
    "def surface_area(r,h):\n",
    "    return {\"total_surface_area\":2*3.14*r*h+2*3.14*r**2, \"volume\":3.14*r**2*h}"
   ]
  },
  {
   "cell_type": "code",
   "execution_count": 16,
   "id": "23780243-e4dd-482e-87b0-dce3f050d7f7",
   "metadata": {},
   "outputs": [
    {
     "name": "stdout",
     "output_type": "stream",
     "text": [
      "{'total_surface_area': 747.32, 'volume': 1538.6000000000001}\n"
     ]
    }
   ],
   "source": [
    "print(surface_area(7,10))"
   ]
  },
  {
   "cell_type": "markdown",
   "id": "22c0147b-d66e-49f1-a1b5-278e0b0e8513",
   "metadata": {},
   "source": [
    "## 7)"
   ]
  },
  {
   "cell_type": "code",
   "execution_count": 17,
   "id": "1beba3b5-6ace-4554-9e08-de403aeba214",
   "metadata": {},
   "outputs": [],
   "source": [
    "def convert_miles_to_km(miles):\n",
    "    return 1.60934*miles"
   ]
  },
  {
   "cell_type": "code",
   "execution_count": 18,
   "id": "852e9960-e806-4e69-a206-118dd0980129",
   "metadata": {},
   "outputs": [
    {
     "name": "stdout",
     "output_type": "stream",
     "text": [
      "8.0467\n"
     ]
    }
   ],
   "source": [
    "print(convert_miles_to_km(5))"
   ]
  },
  {
   "cell_type": "markdown",
   "id": "625f9713-d409-48f5-bd3b-b6c7f762d568",
   "metadata": {},
   "source": [
    "## 8)"
   ]
  },
  {
   "cell_type": "code",
   "execution_count": 20,
   "id": "9054a2b6-9750-4936-91c9-36944c754db6",
   "metadata": {},
   "outputs": [],
   "source": [
    "def cel_fn(c):\n",
    "    return (c*9/5) + 32"
   ]
  },
  {
   "cell_type": "code",
   "execution_count": 22,
   "id": "5fc70aba-1ea2-40e3-80ab-2e7a69cadf6e",
   "metadata": {},
   "outputs": [
    {
     "data": {
      "text/plain": [
       "98.6"
      ]
     },
     "execution_count": 22,
     "metadata": {},
     "output_type": "execute_result"
    }
   ],
   "source": [
    "cel_fn(37)"
   ]
  },
  {
   "cell_type": "markdown",
   "id": "5b4961bc-af15-4555-8cd2-e5a0a5a0ac37",
   "metadata": {},
   "source": [
    "## 11)"
   ]
  },
  {
   "cell_type": "code",
   "execution_count": 7,
   "id": "bb7048c1-a788-41c6-94d8-1e9fbe4978c2",
   "metadata": {},
   "outputs": [],
   "source": [
    "def find_vowels(s):\n",
    "    vowels=['a','i','o','u','A','I','O','U']\n",
    "    a=[]\n",
    "    for i in s:\n",
    "        if i in vowels:\n",
    "            a.append(i)\n",
    "    return set(a)\n",
    "            "
   ]
  },
  {
   "cell_type": "code",
   "execution_count": 8,
   "id": "1037977e-3d05-49d0-b42d-f35a08e2d004",
   "metadata": {},
   "outputs": [],
   "source": [
    "s='sumit'"
   ]
  },
  {
   "cell_type": "code",
   "execution_count": 9,
   "id": "1383ff16-44ad-4f28-8fb7-1ce9e75cff4a",
   "metadata": {},
   "outputs": [
    {
     "name": "stdout",
     "output_type": "stream",
     "text": [
      "{'i', 'u'}\n"
     ]
    }
   ],
   "source": [
    "print(find_vowels(s))"
   ]
  },
  {
   "cell_type": "markdown",
   "id": "cb2ba72c-c3c3-425b-b475-723f136e44f3",
   "metadata": {},
   "source": [
    "## 9)"
   ]
  },
  {
   "cell_type": "code",
   "execution_count": 14,
   "id": "41f4c1d0-9c75-452b-8432-fc9e17a2568a",
   "metadata": {},
   "outputs": [],
   "source": [
    "def reversed(li):\n",
    "    return li[::-1]"
   ]
  },
  {
   "cell_type": "code",
   "execution_count": 15,
   "id": "242823ca-ab5a-4553-9655-c831f2878034",
   "metadata": {},
   "outputs": [],
   "source": [
    "li=[1,2,3,4,5]"
   ]
  },
  {
   "cell_type": "code",
   "execution_count": 16,
   "id": "81a8db86-2ad0-47e4-a95e-3302beac7406",
   "metadata": {},
   "outputs": [
    {
     "name": "stdout",
     "output_type": "stream",
     "text": [
      "[5, 4, 3, 2, 1]\n"
     ]
    }
   ],
   "source": [
    "print(reversed(li))"
   ]
  },
  {
   "cell_type": "markdown",
   "id": "da754223-2298-401a-a08c-83ce1c027966",
   "metadata": {},
   "source": [
    "# IC-2"
   ]
  },
  {
   "cell_type": "markdown",
   "id": "cc70d3b9-1105-4fac-acdc-11d4deb2f2cb",
   "metadata": {},
   "source": [
    "## 1)"
   ]
  },
  {
   "cell_type": "code",
   "execution_count": 25,
   "id": "308a8046-c44a-4290-aed5-cb2fc805b49f",
   "metadata": {},
   "outputs": [
    {
     "name": "stdout",
     "output_type": "stream",
     "text": [
      "0\n",
      "2\n",
      "4\n",
      "6\n",
      "8\n",
      "10\n",
      "12\n",
      "14\n",
      "16\n",
      "18\n"
     ]
    }
   ],
   "source": [
    "for i in range(0,100,2):\n",
    "    if(i>18):\n",
    "        break\n",
    "    print(i)"
   ]
  },
  {
   "cell_type": "markdown",
   "id": "06694d02-bdc5-4280-850f-266a202a37db",
   "metadata": {},
   "source": [
    "## 2)"
   ]
  },
  {
   "cell_type": "code",
   "execution_count": 18,
   "id": "6fbaab0c-6985-4fcb-bc83-3c3e29f0a424",
   "metadata": {},
   "outputs": [
    {
     "name": "stdout",
     "output_type": "stream",
     "text": [
      "1\n",
      "3\n",
      "5\n",
      "7\n",
      "9\n",
      "11\n",
      "13\n",
      "15\n",
      "17\n",
      "19\n"
     ]
    }
   ],
   "source": [
    "for i in range(1,100,2):\n",
    "    if(i>19):\n",
    "        break\n",
    "    print(i)"
   ]
  },
  {
   "cell_type": "markdown",
   "id": "e7b39bd0-3118-45e1-a921-19023944d817",
   "metadata": {},
   "source": [
    "## 3)"
   ]
  },
  {
   "cell_type": "code",
   "execution_count": 20,
   "id": "ec6c05a2-84df-4799-a8f3-02c1bc9ddbb3",
   "metadata": {},
   "outputs": [
    {
     "name": "stdout",
     "output_type": "stream",
     "text": [
      "5\n",
      "10\n",
      "15\n",
      "20\n",
      "25\n",
      "30\n",
      "35\n",
      "40\n",
      "45\n",
      "50\n"
     ]
    }
   ],
   "source": [
    "for i in range(5,55):\n",
    "    if(i%5==0):\n",
    "        print(i)\n",
    "    "
   ]
  },
  {
   "cell_type": "markdown",
   "id": "aa40d35d-b043-4a8c-97e6-d47f8e7dc547",
   "metadata": {},
   "source": [
    "## 4)"
   ]
  },
  {
   "cell_type": "code",
   "execution_count": 24,
   "id": "a000c89a-b6bc-460d-9e4d-1730e4592914",
   "metadata": {},
   "outputs": [
    {
     "name": "stdout",
     "output_type": "stream",
     "text": [
      "-1\n",
      "-2\n",
      "-3\n",
      "-4\n",
      "-5\n"
     ]
    }
   ],
   "source": [
    "for i in range(-1,-6,-1):\n",
    "    print(i)"
   ]
  },
  {
   "cell_type": "markdown",
   "id": "599e0e4a-c934-4b29-b2d2-11e4627273bc",
   "metadata": {},
   "source": [
    "## 5)"
   ]
  },
  {
   "cell_type": "code",
   "execution_count": 26,
   "id": "2e9a4e26-8b76-4777-93fa-2138bfd1e643",
   "metadata": {},
   "outputs": [
    {
     "name": "stdout",
     "output_type": "stream",
     "text": [
      "-2\n",
      "-4\n",
      "-6\n",
      "-8\n",
      "-10\n"
     ]
    }
   ],
   "source": [
    "for i in range(-2,-12,-2):\n",
    "    print(i)"
   ]
  },
  {
   "cell_type": "markdown",
   "id": "7251a3a4-755a-45a2-af07-5ccf751976a4",
   "metadata": {},
   "source": [
    "## 6)"
   ]
  },
  {
   "cell_type": "code",
   "execution_count": 28,
   "id": "cfe313a1-d800-4db5-a374-3ea3d95e0d8d",
   "metadata": {},
   "outputs": [
    {
     "name": "stdout",
     "output_type": "stream",
     "text": [
      "[1, 2, 3, 4, 5]\n",
      "(6, 7, 8, 9, 10)\n",
      "complete\n"
     ]
    }
   ],
   "source": [
    "li=[1,2,3,4,5]\n",
    "tup=(6,7,8,9,10)\n",
    "for i in li,tup:\n",
    "    print(i)\n",
    "else:\n",
    "    print(\"complete\")\n",
    "    "
   ]
  },
  {
   "cell_type": "markdown",
   "id": "2a664db3-a251-46f2-b0a5-f0199a385316",
   "metadata": {},
   "source": [
    "## 7)"
   ]
  },
  {
   "cell_type": "code",
   "execution_count": 31,
   "id": "fe7d7e52-46bf-4593-a743-caf04a563a6e",
   "metadata": {},
   "outputs": [],
   "source": [
    "def prime(n):\n",
    "    count=0\n",
    "    for i in range(1,n//2):\n",
    "        if(n%i==0):\n",
    "            count=count+1\n",
    "    if(count<=1):\n",
    "        return \"prime\"\n",
    "    else:\n",
    "        return \"non-prime\""
   ]
  },
  {
   "cell_type": "code",
   "execution_count": 34,
   "id": "24bc9aad-4ea2-4369-a4c4-6a6633c1f901",
   "metadata": {},
   "outputs": [
    {
     "data": {
      "text/plain": [
       "'prime'"
      ]
     },
     "execution_count": 34,
     "metadata": {},
     "output_type": "execute_result"
    }
   ],
   "source": [
    "prime(23)"
   ]
  },
  {
   "cell_type": "markdown",
   "id": "827952de-503d-45a3-ab82-aa2aed36a6a6",
   "metadata": {},
   "source": [
    "## 8)"
   ]
  },
  {
   "cell_type": "code",
   "execution_count": 36,
   "id": "d8ec6afc-5d69-41ce-9441-467b8efea607",
   "metadata": {},
   "outputs": [
    {
     "name": "stdout",
     "output_type": "stream",
     "text": [
      "sum: 55\n"
     ]
    }
   ],
   "source": [
    "num=(1,2,3,4,5,6,7,8,9,10)\n",
    "sum=0\n",
    "for i in num:\n",
    "    sum=sum+i\n",
    "else:\n",
    "    print(\"sum:\",sum)\n"
   ]
  },
  {
   "cell_type": "markdown",
   "id": "137a8979-9717-46c4-86bb-578031a18374",
   "metadata": {},
   "source": [
    "## 9)"
   ]
  },
  {
   "cell_type": "markdown",
   "id": "cc284959-1ff6-43c6-85d1-493da71a74cb",
   "metadata": {},
   "source": [
    "- __for ex__: my_tuple = (1, \"hello\", 3.14)\n",
    "- __String__: A string is a sequence of characters enclosed within single quotes (' '), double quotes (\" \"), or triple quotes (\"\"\" \"\"\"). Strings are immutable, which means once a string is created, it cannot be modified.\n",
    "- Strings can contain any combination of letters, digits, and symbols, including spaces and punctuation marks. They can also be empty, meaning they contain no characters at all.\n",
    "- __For ex__:my_string_1 = 'Hello, world!'\n",
    "- __List__:A list is a collection of ordered and mutable (changeable) elements enclosed in square brackets [ ]. Each element in the list is separated by a comma. Lists can contain elements of different data types, including other lists.\n",
    "- __for ex__: my_list = [1, 2, 3, \"hello\", \"world\"]\n",
    "- __charcter__:A character is a single, individual symbol that can be represented by a computer, such as a letter, number, punctuation mark, or whitespace. In Python, a character is simply a string of length 1.\n",
    "- __for ex__: my_char = 'a'\n",
    "\n",
    "\n"
   ]
  },
  {
   "cell_type": "markdown",
   "id": "30ab1893-def6-4195-bb02-2a3d7fa005b6",
   "metadata": {},
   "source": [
    "## 10)"
   ]
  },
  {
   "cell_type": "code",
   "execution_count": 50,
   "id": "0b511c78-a8f6-4cdf-953c-ff330fb767c7",
   "metadata": {},
   "outputs": [],
   "source": [
    "def odd_multi(tup):\n",
    "    mul=1\n",
    "    for i in tup:\n",
    "        if(i%2!=0):\n",
    "            mul=mul*i\n",
    "    return mul"
   ]
  },
  {
   "cell_type": "code",
   "execution_count": 52,
   "id": "c5571010-074a-4435-b86b-e3583de9e419",
   "metadata": {},
   "outputs": [
    {
     "data": {
      "text/plain": [
       "135"
      ]
     },
     "execution_count": 52,
     "metadata": {},
     "output_type": "execute_result"
    }
   ],
   "source": [
    "tup=(1,2,3,4,5,9,12)\n",
    "odd_multi(tup)"
   ]
  },
  {
   "cell_type": "markdown",
   "id": "9f1d6392-b36d-419c-91e3-d7d5aac94965",
   "metadata": {},
   "source": [
    "# THA"
   ]
  },
  {
   "cell_type": "markdown",
   "id": "4f6f1a60-b8a3-450d-9ad8-0ede6ae41173",
   "metadata": {},
   "source": [
    "## 1) "
   ]
  },
  {
   "cell_type": "code",
   "execution_count": 38,
   "id": "a30b3528-ef3f-4627-85dc-0c2ec12f35db",
   "metadata": {},
   "outputs": [
    {
     "name": "stdout",
     "output_type": "stream",
     "text": [
      "14\n",
      "28\n",
      "42\n"
     ]
    }
   ],
   "source": [
    "for i in range(7,50):\n",
    "    if i%7==0 and i%2==0:\n",
    "        print(i)"
   ]
  },
  {
   "cell_type": "markdown",
   "id": "4b6eb685-fc55-45ca-9a4f-05dc2c5fbd42",
   "metadata": {},
   "source": [
    "## 2)"
   ]
  },
  {
   "cell_type": "markdown",
   "id": "0ee26dbf-6ee8-439a-b5f5-c9bc1a729fc0",
   "metadata": {},
   "source": [
    "- __while loop__: repeatedly executes code based on a condition\n",
    "- __for loop__: iterates over a sequence of elements and executes code for each element\n",
    "- __if statement__: executes code if a condition is true\n",
    "- __if-else statement__ : executes one set of code if a condition is true, and another set of code if it's false\n",
    "- __elif statement__: allows for chaining multiple conditions together and executing different code for each one"
   ]
  },
  {
   "cell_type": "markdown",
   "id": "046e1893-92d2-46c8-bcd5-22e684b60867",
   "metadata": {},
   "source": [
    "# 3)"
   ]
  },
  {
   "cell_type": "code",
   "execution_count": 41,
   "id": "87e52f2d-ab1a-4691-83cd-c95eb700b8ec",
   "metadata": {},
   "outputs": [],
   "source": [
    "\n",
    "def checkdiv(n):\n",
    "    if(n%9==0 and n%6==0):\n",
    "        print(\"divisble\")\n",
    "    else:\n",
    "        print(\"not divisible\")"
   ]
  },
  {
   "cell_type": "code",
   "execution_count": 42,
   "id": "9561340d-af44-403d-9387-e483f377114d",
   "metadata": {},
   "outputs": [
    {
     "name": "stdout",
     "output_type": "stream",
     "text": [
      "divisble\n"
     ]
    }
   ],
   "source": [
    "checkdiv(54)"
   ]
  },
  {
   "cell_type": "markdown",
   "id": "cc6a61f1-0139-4a6f-be5c-e728d4c64f43",
   "metadata": {},
   "source": [
    "# 4)"
   ]
  },
  {
   "cell_type": "code",
   "execution_count": 43,
   "id": "846feb54-33c5-48f6-af65-46ad8f7de791",
   "metadata": {},
   "outputs": [
    {
     "name": "stdout",
     "output_type": "stream",
     "text": [
      "3\n"
     ]
    }
   ],
   "source": [
    "import math\n",
    "print(int(math.pi))"
   ]
  },
  {
   "cell_type": "markdown",
   "id": "e25ac2a5-9c28-4c5a-a5c9-8f84a8820e28",
   "metadata": {},
   "source": [
    "## IC-3"
   ]
  },
  {
   "cell_type": "markdown",
   "id": "5e34646f-7231-46d0-8f93-4928849e66bb",
   "metadata": {},
   "source": [
    "# 1)"
   ]
  },
  {
   "cell_type": "code",
   "execution_count": 55,
   "id": "958917cb-ed22-47a3-bf15-3de372d91eaf",
   "metadata": {},
   "outputs": [],
   "source": [
    "def chec_valid_email(email):\n",
    "    count=0\n",
    "    for i in email:\n",
    "        if((i.islower() or (i >='0' and i<'9') or i=='@' or i=='.' or i=='&' or i=='_')):\n",
    "            if i=='@':\n",
    "                count=count+1\n",
    "        else:\n",
    "            return 'invalid'\n",
    "    if(count>1):\n",
    "           return 'invlaid'\n",
    "    return 'valid'\n",
    "            \n",
    "            \n",
    "            \n",
    "            \n",
    "            \n",
    "            \n",
    "    "
   ]
  },
  {
   "cell_type": "code",
   "execution_count": 56,
   "id": "5d7f2a06-e5f1-4cc7-8acd-711ef9a87b9b",
   "metadata": {},
   "outputs": [
    {
     "data": {
      "text/plain": [
       "'invalid'"
      ]
     },
     "execution_count": 56,
     "metadata": {},
     "output_type": "execute_result"
    }
   ],
   "source": [
    "chec_valid_email('Sumit8@gmail.com')"
   ]
  },
  {
   "cell_type": "markdown",
   "id": "2eab2ba9-ea3a-4023-80e4-2c0812b4bc3b",
   "metadata": {},
   "source": [
    "# 2)"
   ]
  },
  {
   "cell_type": "code",
   "execution_count": 59,
   "id": "f071b190-5554-4930-b93d-c87bdd2499a9",
   "metadata": {},
   "outputs": [
    {
     "ename": "AttributeError",
     "evalue": "'tuple' object has no attribute 'append'",
     "output_type": "error",
     "traceback": [
      "\u001b[1;31m---------------------------------------------------------------------------\u001b[0m",
      "\u001b[1;31mAttributeError\u001b[0m                            Traceback (most recent call last)",
      "\u001b[1;32m~\\AppData\\Local\\Temp\\ipykernel_17340\\4177075869.py\u001b[0m in \u001b[0;36m<module>\u001b[1;34m\u001b[0m\n\u001b[0;32m      1\u001b[0m \u001b[0mtup\u001b[0m\u001b[1;33m=\u001b[0m\u001b[1;33m(\u001b[0m\u001b[1;33m)\u001b[0m\u001b[1;33m\u001b[0m\u001b[1;33m\u001b[0m\u001b[0m\n\u001b[0;32m      2\u001b[0m \u001b[0mdic\u001b[0m\u001b[1;33m=\u001b[0m\u001b[1;33m{\u001b[0m\u001b[1;34m'name'\u001b[0m\u001b[1;33m:\u001b[0m\u001b[1;34m'sumit'\u001b[0m\u001b[1;33m}\u001b[0m\u001b[1;33m\u001b[0m\u001b[1;33m\u001b[0m\u001b[0m\n\u001b[1;32m----> 3\u001b[1;33m \u001b[0mtup\u001b[0m\u001b[1;33m.\u001b[0m\u001b[0mappend\u001b[0m\u001b[1;33m(\u001b[0m\u001b[0mdic\u001b[0m\u001b[1;33m)\u001b[0m\u001b[1;33m\u001b[0m\u001b[1;33m\u001b[0m\u001b[0m\n\u001b[0m",
      "\u001b[1;31mAttributeError\u001b[0m: 'tuple' object has no attribute 'append'"
     ]
    }
   ],
   "source": [
    "tup=()\n",
    "dic={'name':'sumit'}\n",
    "tup.append(dic)\n"
   ]
  },
  {
   "cell_type": "markdown",
   "id": "1739265b-1e79-4640-b218-23a367ad9b62",
   "metadata": {},
   "source": [
    "- tuples are immutable hence can not append "
   ]
  },
  {
   "cell_type": "markdown",
   "id": "03f3bd41-e46e-45db-abb5-2797288f2079",
   "metadata": {},
   "source": [
    "# 4)"
   ]
  },
  {
   "cell_type": "code",
   "execution_count": 61,
   "id": "429cfc7f-8777-4a51-99be-63a785e20eeb",
   "metadata": {},
   "outputs": [
    {
     "name": "stdout",
     "output_type": "stream",
     "text": [
      "2.6666666666666665\n"
     ]
    }
   ],
   "source": [
    "tup1=(1,2,3,4,5)\n",
    "tup2=(6,7,8,9,10)\n",
    "print(tup2[2]/tup1[2])"
   ]
  },
  {
   "cell_type": "markdown",
   "id": "ceb167e9-b2dd-4e33-85e1-97a740b553b2",
   "metadata": {},
   "source": [
    "# 5)"
   ]
  },
  {
   "cell_type": "code",
   "execution_count": 1,
   "id": "352e5458-c7b5-4549-bfbd-0dd320877e3e",
   "metadata": {},
   "outputs": [
    {
     "name": "stdin",
     "output_type": "stream",
     "text": [
      "enter no of items: 1\n",
      "Enter order number :  2345\n",
      "Enter book name:  introduction to python\n",
      "Enter quantity:  4\n",
      "Enter price per item:  23.99\n"
     ]
    },
    {
     "name": "stdout",
     "output_type": "stream",
     "text": [
      "total_ampunt: 95.96\n",
      "['Order Number', 'Book Name', 'Quantity', 'Price per item']\n",
      "['2345', 'introduction to python', 4, 23.99]\n"
     ]
    }
   ],
   "source": [
    "\n",
    "orders = []\n",
    "i=0\n",
    "total_order=int(input(\"enter no of items:\"))\n",
    "total_bill=0;\n",
    "\n",
    "while i<total_order:\n",
    "    order_num = input(\"Enter order number : \")\n",
    "    book_name = input(\"Enter book name: \")\n",
    "    quantity = int(input(\"Enter quantity: \"))\n",
    "    price = float(input(\"Enter price per item: \"))\n",
    "    total_bill=total_bill+quantity*price\n",
    "    orders.append([order_num, book_name, quantity, price])\n",
    "    i=i+1\n",
    "\n",
    "orders.insert(0, ['Order Number', 'Book Name', 'Quantity', 'Price per item'])\n",
    "print(\"total_ampunt:\",total_bill)\n",
    "\n",
    "def print_2d_array(arr):\n",
    "    for row in arr:\n",
    "        print(row)\n",
    "\n",
    "\n",
    "\n",
    "print_2d_array(orders)"
   ]
  },
  {
   "cell_type": "code",
   "execution_count": 74,
   "id": "b1044153-fa1c-4f3a-966c-67c920438499",
   "metadata": {},
   "outputs": [],
   "source": [
    "class user:\n",
    "    def __init__(self,mobile_no,balance):\n",
    "        self.mobile_no=mobile_no\n",
    "        self.balance=balance\n",
    "    \n",
    "        "
   ]
  },
  {
   "cell_type": "code",
   "execution_count": 76,
   "id": "c6f14359-54e5-4273-b157-5d1bd5426aa5",
   "metadata": {},
   "outputs": [],
   "source": [
    "class payment:\n",
    "    def __init__(self,mobile_no,amount):\n",
    "        self.mobile_no=mobile_no\n",
    "        self.amount=amount\n",
    "    def pay():\n",
    "        user1=user(mobile_no,balance)\n",
    "        user1.balance=user1.balance+amount\n",
    "        \n",
    "        "
   ]
  },
  {
   "cell_type": "code",
   "execution_count": 78,
   "id": "74d47374-714b-459d-ac4c-9322ff7f30c1",
   "metadata": {},
   "outputs": [],
   "source": [
    "user1=user(9897456176,10000)"
   ]
  },
  {
   "cell_type": "markdown",
   "id": "a5629d25-62ad-460b-89ed-3468127a86cb",
   "metadata": {},
   "source": [
    "# 6)"
   ]
  },
  {
   "cell_type": "code",
   "execution_count": 2,
   "id": "b65930b8-90f3-4231-a0de-e83161e14d66",
   "metadata": {},
   "outputs": [],
   "source": [
    "square_even=[num**2 for num in range(1,11) if num%2==0]"
   ]
  },
  {
   "cell_type": "code",
   "execution_count": 3,
   "id": "4598a2ef-82e9-4507-bc1d-1467f370fb2a",
   "metadata": {},
   "outputs": [
    {
     "data": {
      "text/plain": [
       "[4, 16, 36, 64, 100]"
      ]
     },
     "execution_count": 3,
     "metadata": {},
     "output_type": "execute_result"
    }
   ],
   "source": [
    "square_even"
   ]
  },
  {
   "cell_type": "markdown",
   "id": "262240fd-1eaa-400e-aba2-46d50ecf49f0",
   "metadata": {},
   "source": [
    "# 7)"
   ]
  },
  {
   "cell_type": "code",
   "execution_count": 5,
   "id": "62b68b28-607a-4360-bef4-b11654c091ea",
   "metadata": {},
   "outputs": [
    {
     "data": {
      "text/plain": [
       "[1, 27, 125, 343, 729]"
      ]
     },
     "execution_count": 5,
     "metadata": {},
     "output_type": "execute_result"
    }
   ],
   "source": [
    "odd_cube=[]\n",
    "for i in range(1,10,2):\n",
    "    odd_cube.append(i**3)\n",
    "odd_cube"
   ]
  },
  {
   "cell_type": "markdown",
   "id": "a05203dd-0d3c-4750-9e0b-1119900edfd6",
   "metadata": {},
   "source": [
    " # 8)"
   ]
  },
  {
   "cell_type": "code",
   "execution_count": 9,
   "id": "cee5a900-d907-41ec-a0e0-d27891358299",
   "metadata": {},
   "outputs": [
    {
     "name": "stdout",
     "output_type": "stream",
     "text": [
      "123456789\n",
      "1357\n"
     ]
    }
   ],
   "source": [
    "s='123456789'\n",
    "print(s[0:10])\n",
    "print(s[0:8:2])"
   ]
  },
  {
   "cell_type": "markdown",
   "id": "20792fd4-9b7c-4cfa-b3b5-3b91f615ad6b",
   "metadata": {},
   "source": [
    "# 9)"
   ]
  },
  {
   "cell_type": "code",
   "execution_count": 19,
   "id": "9e20f364-292f-40e1-b981-53cad3f60a13",
   "metadata": {},
   "outputs": [
    {
     "name": "stdout",
     "output_type": "stream",
     "text": [
      "147\n"
     ]
    }
   ],
   "source": [
    "print(s[-10:-1:3])"
   ]
  },
  {
   "cell_type": "markdown",
   "id": "5c5351ac-434b-44ca-9ab6-85a542094428",
   "metadata": {},
   "source": [
    "# 10)"
   ]
  },
  {
   "cell_type": "code",
   "execution_count": 21,
   "id": "2bbe7e7e-6d64-4faf-97d9-a443471a685d",
   "metadata": {},
   "outputs": [
    {
     "name": "stdout",
     "output_type": "stream",
     "text": [
      "159\n"
     ]
    }
   ],
   "source": [
    "print(s[0:10:4])"
   ]
  },
  {
   "cell_type": "markdown",
   "id": "dd8957a1-ba28-4867-9e02-319196b816a9",
   "metadata": {},
   "source": [
    "# 11)"
   ]
  },
  {
   "cell_type": "code",
   "execution_count": 23,
   "id": "6d07d465-5c65-4aac-b52d-76a7548e5b29",
   "metadata": {},
   "outputs": [
    {
     "name": "stdout",
     "output_type": "stream",
     "text": [
      "(1, 2, 3, 4, 5, 6)\n"
     ]
    }
   ],
   "source": [
    "tup=(1,2,3,4,5,6,7,8,9)\n",
    "print(tup[0:6])"
   ]
  },
  {
   "cell_type": "markdown",
   "id": "34e654cd-4507-427f-9545-dfba2fdad6b6",
   "metadata": {},
   "source": [
    "# 12)"
   ]
  },
  {
   "cell_type": "code",
   "execution_count": 24,
   "id": "b0baf942-7232-42ea-992b-fc07d76e196d",
   "metadata": {},
   "outputs": [
    {
     "name": "stdout",
     "output_type": "stream",
     "text": [
      "(1, 2, 3, 4, 5, 6)\n"
     ]
    }
   ],
   "source": [
    "print(tup[-10:-3])"
   ]
  },
  {
   "cell_type": "markdown",
   "id": "27f9cc74-523f-4080-b527-f15431589411",
   "metadata": {},
   "source": [
    "# 13)"
   ]
  },
  {
   "cell_type": "markdown",
   "id": "6a53346a-56aa-40c8-8a96-9ad3b81b2fd8",
   "metadata": {},
   "source": [
    "# difference between the tuple and list is that:\n",
    "- tuple are immutable object means once they are created can not be modified\n",
    "- list are mutable object means once they are created they can be modified"
   ]
  },
  {
   "cell_type": "markdown",
   "id": "6940bae8-8951-460c-ba2f-ed7ae0ebb468",
   "metadata": {},
   "source": [
    "# 14)"
   ]
  },
  {
   "cell_type": "code",
   "execution_count": 25,
   "id": "5a1724e0-eab3-4ce0-9ceb-e74f93cfb5da",
   "metadata": {},
   "outputs": [
    {
     "data": {
      "text/plain": [
       "[1, 3, 5, 6]"
      ]
     },
     "execution_count": 25,
     "metadata": {},
     "output_type": "execute_result"
    }
   ],
   "source": [
    "li=[1,3,5,6,7]\n",
    "li[-5:-1]"
   ]
  },
  {
   "cell_type": "markdown",
   "id": "577fb451-e0da-45f4-bdff-71c56c28c29e",
   "metadata": {},
   "source": [
    "# 15)"
   ]
  },
  {
   "cell_type": "code",
   "execution_count": 29,
   "id": "6ca8b086-5e94-47aa-a8c7-f9698d9434d2",
   "metadata": {},
   "outputs": [],
   "source": [
    "def bubble_sort(li): # or we can directly use li.sort()\n",
    "    for i in range(0,len(li)):\n",
    "        for j in range(0,len(li)-i-1):\n",
    "            if(li[j]>li[j+1]):\n",
    "                li[j],li[j+1]=li[j+1],li[j]\n",
    "    return li"
   ]
  },
  {
   "cell_type": "code",
   "execution_count": 32,
   "id": "0f1e18ff-0413-4163-8054-9ed8b77aa8c6",
   "metadata": {},
   "outputs": [],
   "source": [
    "li=[5,3,2,1,10,15]"
   ]
  },
  {
   "cell_type": "code",
   "execution_count": 33,
   "id": "715cabde-c774-42fa-8561-aaf36ae1d459",
   "metadata": {},
   "outputs": [
    {
     "data": {
      "text/plain": [
       "[1, 2, 3, 5, 10, 15]"
      ]
     },
     "execution_count": 33,
     "metadata": {},
     "output_type": "execute_result"
    }
   ],
   "source": [
    "bubble_sort(li)"
   ]
  },
  {
   "cell_type": "markdown",
   "id": "1b52df2b-c010-4c2d-98d2-2dec21b7ebb3",
   "metadata": {},
   "source": [
    "# 16)"
   ]
  },
  {
   "cell_type": "code",
   "execution_count": 36,
   "id": "63d6bba7-f274-415d-8ced-e7169c456579",
   "metadata": {},
   "outputs": [],
   "source": [
    "def find_min(li):\n",
    "    mini=li[0]\n",
    "    for i in range(1,len(li)):\n",
    "        if(li[i]<mini):\n",
    "            mini=li[i]\n",
    "    return mini\n",
    "        "
   ]
  },
  {
   "cell_type": "code",
   "execution_count": 37,
   "id": "6b886a8b-be42-4bb2-8b0f-d57296a9e10a",
   "metadata": {},
   "outputs": [
    {
     "data": {
      "text/plain": [
       "1"
      ]
     },
     "execution_count": 37,
     "metadata": {},
     "output_type": "execute_result"
    }
   ],
   "source": [
    "find_min(li)"
   ]
  },
  {
   "cell_type": "markdown",
   "id": "942b3240-7627-4f40-9b20-f65ee540a303",
   "metadata": {},
   "source": [
    "# 17)"
   ]
  },
  {
   "cell_type": "code",
   "execution_count": 73,
   "id": "3010587c-440b-477c-988c-af0c3ace9ba5",
   "metadata": {},
   "outputs": [],
   "source": [
    "indian_states={'Uttarkahnd':'Dehradun','Uttar Pradesh':'Lucknow','Rajsthan':'Jaipur','TamilNadu':'Chennai'}"
   ]
  },
  {
   "cell_type": "code",
   "execution_count": 74,
   "id": "9758fb4a-02fa-40ce-a0f5-2623b2c9aa24",
   "metadata": {},
   "outputs": [
    {
     "data": {
      "text/plain": [
       "{'Uttarkahnd': 'Dehradun',\n",
       " 'Uttar Pradesh': 'Lucknow',\n",
       " 'Rajsthan': 'Jaipur',\n",
       " 'TamilNadu': 'Chennai'}"
      ]
     },
     "execution_count": 74,
     "metadata": {},
     "output_type": "execute_result"
    }
   ],
   "source": [
    "indian_states"
   ]
  },
  {
   "cell_type": "markdown",
   "id": "be1546fd-b5cb-4a8c-8f40-2a1651d85a90",
   "metadata": {},
   "source": [
    "# 18)"
   ]
  },
  {
   "cell_type": "code",
   "execution_count": 88,
   "id": "10a3f029-adc6-4bc8-9310-362549ca7e15",
   "metadata": {},
   "outputs": [],
   "source": [
    "Pondicherry={'capital':'Pondicherry','population':'10M'}"
   ]
  },
  {
   "cell_type": "code",
   "execution_count": 89,
   "id": "5868ffc1-5975-4b9d-bb8f-5e5b795533d6",
   "metadata": {},
   "outputs": [],
   "source": [
    "indian_states['Pondicherry']=Pondicherry"
   ]
  },
  {
   "cell_type": "code",
   "execution_count": 90,
   "id": "d1ae2d6c-90e2-42a4-8bbe-e1a20423d87f",
   "metadata": {},
   "outputs": [
    {
     "data": {
      "text/plain": [
       "{'Uttarkahnd': 'Dehradun',\n",
       " 'Uttar Pradesh': 'Lucknow',\n",
       " 'Rajsthan': 'Jaipur',\n",
       " 'TamilNadu': 'Chennai',\n",
       " 'Pondicherry': {'capital': 'Pondicherry', 'population': '10M'}}"
      ]
     },
     "execution_count": 90,
     "metadata": {},
     "output_type": "execute_result"
    }
   ],
   "source": [
    "indian_states"
   ]
  },
  {
   "cell_type": "markdown",
   "id": "fe2d364b-57f9-4218-bbf4-5b6fee5b2e6e",
   "metadata": {},
   "source": [
    "# 19)"
   ]
  },
  {
   "cell_type": "markdown",
   "id": "a73d808c-e554-40c8-96cb-603f6107778a",
   "metadata": {},
   "source": [
    "- continue statement is a jump statement whenever a it is used inside a condtional statement(like if else ,elif etc) if a contion gets true it simply ignore the rest of statement and jumps to next interation\n",
    "- break statement is used inside conditional statement if condition gets true it break the loop and controle comes out of the loop"
   ]
  },
  {
   "cell_type": "markdown",
   "id": "9da4d349-c42c-4dee-936a-a115baa36beb",
   "metadata": {},
   "source": [
    "# 20)"
   ]
  },
  {
   "cell_type": "markdown",
   "id": "bea1d34a-8982-4c06-854f-96699a871a28",
   "metadata": {},
   "source": [
    "* List comprehension: A concise way to create lists in Python using a single line of code. It consists of an expression followed by a for clause and optionally one or more if clauses. The expression is evaluated for each item in the input sequence(s) that satisfies the if clauses, and the results are collected into a new list.\n",
    "- __Example__: [num**2 for num in range(1, 6)] generates the list [1, 4, 9, 16, 25]\n",
    "\n",
    "* Map function: A built-in function in Python that applies a given function to each item of an iterable (e.g. a list) and returns a new iterable with the results. The original iterable is not modified.\n",
    "- __Example__: map(lambda x: x**2, [1, 2, 3, 4, 5]) returns the iterator [1, 4, 9, 16, 25].\n",
    "\n",
    "- Lambda function: Also known as an anonymous function, a lambda function is a small, anonymous function that can have any number of arguments but can only have one expression. It is defined using the lambda keyword and can be used as an argument to other functions or as a standalone function.\n",
    "- __Example__: lambda x: x**2 is a lambda function that takes one argument x and returns its square.\n",
    "\n",
    "- Filter function: A built-in function in Python that returns an iterator containing the items from an iterable (e.g. a list) that satisfy a given condition. The condition is specified using a function that takes one argument and returns True or False. The original iterable is not modified.\n",
    "- __Example__: filter(lambda x: x % 2 == 0, [1, 2, 3, 4, 5]) returns the iterator [2, 4]."
   ]
  },
  {
   "cell_type": "markdown",
   "id": "4599b8ec-d424-4330-90de-d33e4e855319",
   "metadata": {},
   "source": [
    "# 21)"
   ]
  },
  {
   "cell_type": "code",
   "execution_count": 105,
   "id": "3b797c30-4e1e-4975-b22e-bfe7c146ddfd",
   "metadata": {},
   "outputs": [],
   "source": [
    "cube=list(map(lambda x:x**3,[1,2,3,4,5]))"
   ]
  },
  {
   "cell_type": "code",
   "execution_count": 106,
   "id": "612d4191-9e72-4e0c-ad2b-8522a79e357c",
   "metadata": {},
   "outputs": [
    {
     "data": {
      "text/plain": [
       "[1, 8, 27, 64, 125]"
      ]
     },
     "execution_count": 106,
     "metadata": {},
     "output_type": "execute_result"
    }
   ],
   "source": [
    "cube"
   ]
  },
  {
   "cell_type": "markdown",
   "id": "c94e5214-d6d7-4f70-a5ec-067c067ec79f",
   "metadata": {},
   "source": [
    "# 22)"
   ]
  },
  {
   "cell_type": "code",
   "execution_count": 99,
   "id": "265c8421-2a2e-4df1-864b-203c2d59aa98",
   "metadata": {},
   "outputs": [],
   "source": [
    "li=[True,0,'o',3.56,'4',1,4+7j,False,'True']"
   ]
  },
  {
   "cell_type": "code",
   "execution_count": 103,
   "id": "c5dc8563-9d45-420e-83ad-b560c6affe12",
   "metadata": {},
   "outputs": [],
   "source": [
    "fil=list(filter(lambda x:type(x) is int or type(x) is float,li))"
   ]
  },
  {
   "cell_type": "code",
   "execution_count": 104,
   "id": "8062c08c-1d8b-49f5-ab49-18dc046678e4",
   "metadata": {},
   "outputs": [
    {
     "data": {
      "text/plain": [
       "[0, 3.56, 1]"
      ]
     },
     "execution_count": 104,
     "metadata": {},
     "output_type": "execute_result"
    }
   ],
   "source": [
    "fil"
   ]
  },
  {
   "cell_type": "markdown",
   "id": "06c2d4b8-745a-45be-8f19-d96b0ca4ca60",
   "metadata": {},
   "source": [
    "# 23)"
   ]
  },
  {
   "cell_type": "code",
   "execution_count": 26,
   "id": "bdc16100-0fbc-4792-93e0-1d70e5e27d55",
   "metadata": {},
   "outputs": [],
   "source": [
    "import random\n",
    "def snake_ladder():\n",
    "    user1=0\n",
    "    user2=0\n",
    "    dice_no1=0\n",
    "    dice_no2=0\n",
    "    while(True):\n",
    "        throw=input(\"user1:press enter to throw the dice\")\n",
    "        dice_no1=random.randint(1,6)\n",
    "        print(\"dice_no1:\",dice_no1)\n",
    "        user1=user1+dice_no1\n",
    "        \n",
    "        if(user1==4):\n",
    "            print(\"hurray! ladder\")\n",
    "            user1=14\n",
    "        elif(user1==9):\n",
    "            print(\"hurray! ladder\")\n",
    "            user1=31\n",
    "        elif(user1==21):\n",
    "            print(\"hurray! ladder\")\n",
    "            user1=42\n",
    "        elif(user1==28):\n",
    "            print(\"hurray! ladder\")\n",
    "            user1==84\n",
    "        elif(user1==51):\n",
    "            print(\"hurray! ladder\")\n",
    "            user1=67\n",
    "        elif(user1==80):\n",
    "            print(\"hurray! ladder\")\n",
    "            user1=100\n",
    "        elif(user1==71):\n",
    "            print(\"hurray! ladder\")\n",
    "            user1=91\n",
    "        elif(user1==17):\n",
    "            print(\"oh shit! snake bite\")\n",
    "            user1=7\n",
    "        elif(user1==54):\n",
    "            print(\"oh shit! snake bite\")\n",
    "            user1=34\n",
    "        elif(user1==64):\n",
    "            print(\"oh shit! snake bite\")\n",
    "            user1=60\n",
    "        elif(user1==62):\n",
    "            print(\"oh shit! snake bite\")\n",
    "            user1=19\n",
    "        elif(user1==87):\n",
    "            print(\"oh shit! snake bite\")\n",
    "            user1=24\n",
    "        elif(user1==93):\n",
    "            print(\"oh shit! snake bite\")\n",
    "            user1=73\n",
    "        elif(user1==95):\n",
    "            print(\"oh shit! snake bite\")\n",
    "            user1=73\n",
    "        elif(user1==98):\n",
    "            print(\"oh shit! snake bite\")\n",
    "            user1=79\n",
    "        elif(user1>100):\n",
    "            print(\"not moving:\")\n",
    "            user1=user1-dice_no1\n",
    "        elif(user1==100):\n",
    "            print(\"user1 won\")\n",
    "            break\n",
    "        \n",
    "        \n",
    "\n",
    "        if(dice_no1==6):\n",
    "            while(dice_no1==6):\n",
    "                throw=input(\"user1:press enter to throw the dice\")\n",
    "                dice_no1=random.randint(1,6)\n",
    "                print(\"dice_no:\",dice_no1)\n",
    "                user1=user1+dice_no1\n",
    "                if(user1==4):\n",
    "                    print(\"hurray! ladder\")\n",
    "                    user1=14\n",
    "                elif(user1==9):\n",
    "                    print(\"hurray! ladder\")\n",
    "                    user1=31\n",
    "                elif(user1==21):\n",
    "                    print(\"hurray! ladder\")\n",
    "                    user1=42\n",
    "                elif(user1==28):\n",
    "                    print(\"hurray! ladder\")\n",
    "                    user1==84\n",
    "                elif(user1==51):\n",
    "                    print(\"hurray! ladder\")\n",
    "                    user1=67\n",
    "                elif(user1==80):\n",
    "                    print(\"hurray! ladder\")\n",
    "                    user1=100\n",
    "                elif(user1==71):\n",
    "                    print(\"hurray! ladder\")\n",
    "                    user1=91\n",
    "                elif(user1==17):\n",
    "                    print(\"oh shit! snake bite\")\n",
    "                    user1=7\n",
    "                elif(user1==54):\n",
    "                    print(\"oh shit! snake bite\")\n",
    "                    user1=34\n",
    "                elif(user1==64):\n",
    "                    print(\"oh shit! snake bite\")\n",
    "                    user1=60\n",
    "                elif(user1==62):\n",
    "                    print(\"oh shit! snake bite\")\n",
    "                    user1=19\n",
    "                elif(user1==87):\n",
    "                    print(\"oh shit! snake bite\")\n",
    "                    user1=24\n",
    "                elif(user1==93):\n",
    "                    print(\"oh shit! snake bite\")\n",
    "                    user1=73\n",
    "                elif(user1==95):\n",
    "                    print(\"oh shit! snake bite\")\n",
    "                    user1=73\n",
    "                elif(user1==98):\n",
    "                    print(\"oh shit! snake bite\")\n",
    "                    user1=79\n",
    "                elif(user1>100):\n",
    "                    print(\"not moving:\")\n",
    "                    user1=user1-dice_no1\n",
    "        elif(user1==100):\n",
    "            print(\"user1 won\")\n",
    "            break\n",
    "        \n",
    "        \n",
    "        else:\n",
    "            print(\"user1:\",user1)\n",
    "            throw=input(\"user2:press enter to throw the dice\")\n",
    "            dice_no2=random.randint(1,6)\n",
    "            print(\"dice_no2:\",dice_no2)\n",
    "            user2=user2+dice_no2\n",
    "            if(user2==4):\n",
    "                print(\"hurray! ladder\")\n",
    "                user2=14\n",
    "            elif(user2==9):\n",
    "                print(\"hurray! ladder\")\n",
    "                user2=31\n",
    "            elif(user2==21):\n",
    "                print(\"hurray! ladder\")\n",
    "                user2=42\n",
    "            elif(user2==28):\n",
    "                print(\"hurray! ladder\")\n",
    "                user2==84\n",
    "            elif(user2==51):\n",
    "                print(\"hurray! ladder\")\n",
    "                user2=67\n",
    "            elif(user2==80):\n",
    "                print(\"hurray! ladder\")\n",
    "                user2=100\n",
    "            elif(user2==71):\n",
    "                print(\"hurray! ladder\")\n",
    "                user2=91\n",
    "            elif(user2==17):\n",
    "                print(\"oh shit! snake bite\")\n",
    "                user2=7\n",
    "            elif(user2==54):\n",
    "                print(\"oh shit! snake bite\")\n",
    "                user2=34\n",
    "            elif(user2==64):\n",
    "                print(\"oh shit! snake bite\")\n",
    "                user2=60\n",
    "            elif(user2==62):\n",
    "                print(\"oh shit! snake bite\")\n",
    "                user2=19\n",
    "            elif(user2==87):\n",
    "                print(\"oh shit! snake bite\")\n",
    "                user2=24\n",
    "            elif(user2==93):\n",
    "                print(\"oh shit! snake bite\")\n",
    "                user2=73\n",
    "            elif(user2==95):\n",
    "                print(\"oh shit! snake bite\")\n",
    "                user2=73\n",
    "            elif(user2==98):\n",
    "                print(\"oh shit! snake bite\")\n",
    "                user2=79\n",
    "            elif(user2>100):\n",
    "                print(\"not moving:\")\n",
    "                user2=user2-dice_no2\n",
    "            elif(user2==100):\n",
    "                print(\"user2 won\")\n",
    "                break\n",
    "            \n",
    "            while(dice_no2==6):\n",
    "                throw=input(\"user2:press enter to throw the dice\")\n",
    "                dice_no2=random.randint(1,6)\n",
    "                print(\"dice_no2:\",dice_no2)\n",
    "                user2=user2+dice_no2\n",
    "                if(user2==4):\n",
    "                    print(\"hurray! ladder\")\n",
    "                    user2=14\n",
    "                elif(user2==9):\n",
    "                    print(\"hurray! ladder\")\n",
    "                    user2=31\n",
    "                elif(user2==21):\n",
    "                    print(\"hurray! ladder\")\n",
    "                    user2=42\n",
    "                elif(user2==28):\n",
    "                    print(\"hurray! ladder\")\n",
    "                    user2==84\n",
    "                elif(user2==51):\n",
    "                    print(\"hurray! ladder\")\n",
    "                    user2=67\n",
    "                elif(user2==80):\n",
    "                    print(\"hurray! ladder\")\n",
    "                    user2=100\n",
    "                elif(user2==71):\n",
    "                    print(\"hurray! ladder\")\n",
    "                    user2=91\n",
    "                elif(user2==17):\n",
    "                    print(\"oh shit! snake bite\")\n",
    "                    user2=7\n",
    "                elif(user2==54):\n",
    "                    print(\"oh shit! snake bite\")\n",
    "                    user2=34\n",
    "                elif(user2==64):\n",
    "                    print(\"oh shit! snake bite\")\n",
    "                    user2=60\n",
    "                elif(user2==62):\n",
    "                    print(\"oh shit! snake bite\")\n",
    "                    user2=19\n",
    "                elif(user2==87):\n",
    "                    print(\"oh shit! snake bite\")\n",
    "                    user2=24\n",
    "                elif(user2==93):\n",
    "                    print(\"oh shit! snake bite\")\n",
    "                    user2=73\n",
    "                elif(user2==95):\n",
    "                    print(\"oh shit! snake bite\")\n",
    "                    user2=73\n",
    "                elif(user2==98):\n",
    "                    print(\"oh shit! snake bite\")\n",
    "                    user2=79\n",
    "                elif(user2>100):\n",
    "                    print(\"not moving:\")\n",
    "                    user2=user2-dice_no2\n",
    "            print(\"user2:\",user2)\n",
    "        if(user2==100):\n",
    "            print(\"user2 won\")\n",
    "            break\n",
    "        \n",
    "           \n",
    "        \n",
    "\n",
    "                    \n",
    "                \n",
    "            \n",
    "    \n",
    "    "
   ]
  },
  {
   "cell_type": "code",
   "execution_count": 27,
   "id": "35c73272-4121-4ad9-a1f4-d16e3637eaf7",
   "metadata": {},
   "outputs": [
    {
     "name": "stdin",
     "output_type": "stream",
     "text": [
      "user1:press enter to throw the dice \n"
     ]
    },
    {
     "name": "stdout",
     "output_type": "stream",
     "text": [
      "dice_no1: 4\n",
      "hurray! ladder\n",
      "user1: 14\n"
     ]
    },
    {
     "name": "stdin",
     "output_type": "stream",
     "text": [
      "user2:press enter to throw the dice \n"
     ]
    },
    {
     "name": "stdout",
     "output_type": "stream",
     "text": [
      "dice_no2: 2\n",
      "user2: 2\n"
     ]
    },
    {
     "name": "stdin",
     "output_type": "stream",
     "text": [
      "user1:press enter to throw the dice \n"
     ]
    },
    {
     "name": "stdout",
     "output_type": "stream",
     "text": [
      "dice_no1: 4\n",
      "user1: 18\n"
     ]
    },
    {
     "name": "stdin",
     "output_type": "stream",
     "text": [
      "user2:press enter to throw the dice \n"
     ]
    },
    {
     "name": "stdout",
     "output_type": "stream",
     "text": [
      "dice_no2: 3\n",
      "user2: 5\n"
     ]
    },
    {
     "name": "stdin",
     "output_type": "stream",
     "text": [
      "user1:press enter to throw the dice \n"
     ]
    },
    {
     "name": "stdout",
     "output_type": "stream",
     "text": [
      "dice_no1: 3\n",
      "hurray! ladder\n",
      "user1: 42\n"
     ]
    },
    {
     "name": "stdin",
     "output_type": "stream",
     "text": [
      "user2:press enter to throw the dice \n"
     ]
    },
    {
     "name": "stdout",
     "output_type": "stream",
     "text": [
      "dice_no2: 4\n",
      "hurray! ladder\n",
      "user2: 31\n"
     ]
    },
    {
     "name": "stdin",
     "output_type": "stream",
     "text": [
      "user1:press enter to throw the dice \n"
     ]
    },
    {
     "name": "stdout",
     "output_type": "stream",
     "text": [
      "dice_no1: 1\n",
      "user1: 43\n"
     ]
    },
    {
     "name": "stdin",
     "output_type": "stream",
     "text": [
      "user2:press enter to throw the dice \n"
     ]
    },
    {
     "name": "stdout",
     "output_type": "stream",
     "text": [
      "dice_no2: 2\n",
      "user2: 33\n"
     ]
    },
    {
     "name": "stdin",
     "output_type": "stream",
     "text": [
      "user1:press enter to throw the dice \n"
     ]
    },
    {
     "name": "stdout",
     "output_type": "stream",
     "text": [
      "dice_no1: 3\n",
      "user1: 46\n"
     ]
    },
    {
     "name": "stdin",
     "output_type": "stream",
     "text": [
      "user2:press enter to throw the dice \n"
     ]
    },
    {
     "name": "stdout",
     "output_type": "stream",
     "text": [
      "dice_no2: 1\n",
      "user2: 34\n"
     ]
    },
    {
     "name": "stdin",
     "output_type": "stream",
     "text": [
      "user1:press enter to throw the dice \n"
     ]
    },
    {
     "name": "stdout",
     "output_type": "stream",
     "text": [
      "dice_no1: 3\n",
      "user1: 49\n"
     ]
    },
    {
     "name": "stdin",
     "output_type": "stream",
     "text": [
      "user2:press enter to throw the dice \n"
     ]
    },
    {
     "name": "stdout",
     "output_type": "stream",
     "text": [
      "dice_no2: 2\n",
      "user2: 36\n"
     ]
    },
    {
     "name": "stdin",
     "output_type": "stream",
     "text": [
      "user1:press enter to throw the dice \n"
     ]
    },
    {
     "name": "stdout",
     "output_type": "stream",
     "text": [
      "dice_no1: 2\n",
      "hurray! ladder\n",
      "user1: 67\n"
     ]
    },
    {
     "name": "stdin",
     "output_type": "stream",
     "text": [
      "user2:press enter to throw the dice \n"
     ]
    },
    {
     "name": "stdout",
     "output_type": "stream",
     "text": [
      "dice_no2: 2\n",
      "user2: 38\n"
     ]
    },
    {
     "name": "stdin",
     "output_type": "stream",
     "text": [
      "user1:press enter to throw the dice \n"
     ]
    },
    {
     "name": "stdout",
     "output_type": "stream",
     "text": [
      "dice_no1: 4\n",
      "hurray! ladder\n",
      "user1: 91\n"
     ]
    },
    {
     "name": "stdin",
     "output_type": "stream",
     "text": [
      "user2:press enter to throw the dice \n"
     ]
    },
    {
     "name": "stdout",
     "output_type": "stream",
     "text": [
      "dice_no2: 1\n",
      "user2: 39\n"
     ]
    },
    {
     "name": "stdin",
     "output_type": "stream",
     "text": [
      "user1:press enter to throw the dice \n"
     ]
    },
    {
     "name": "stdout",
     "output_type": "stream",
     "text": [
      "dice_no1: 4\n",
      "oh shit! snake bite\n",
      "user1: 73\n"
     ]
    },
    {
     "name": "stdin",
     "output_type": "stream",
     "text": [
      "user2:press enter to throw the dice \n"
     ]
    },
    {
     "name": "stdout",
     "output_type": "stream",
     "text": [
      "dice_no2: 2\n",
      "user2: 41\n"
     ]
    },
    {
     "name": "stdin",
     "output_type": "stream",
     "text": [
      "user1:press enter to throw the dice \n"
     ]
    },
    {
     "name": "stdout",
     "output_type": "stream",
     "text": [
      "dice_no1: 6\n"
     ]
    },
    {
     "name": "stdin",
     "output_type": "stream",
     "text": [
      "user1:press enter to throw the dice \n"
     ]
    },
    {
     "name": "stdout",
     "output_type": "stream",
     "text": [
      "dice_no: 1\n",
      "hurray! ladder\n"
     ]
    },
    {
     "name": "stdin",
     "output_type": "stream",
     "text": [
      "user1:press enter to throw the dice \n"
     ]
    },
    {
     "name": "stdout",
     "output_type": "stream",
     "text": [
      "dice_no1: 1\n",
      "not moving:\n",
      "user1 won\n"
     ]
    }
   ],
   "source": [
    "snake_ladder()"
   ]
  },
  {
   "cell_type": "markdown",
   "id": "58bb4fdf-32a8-4c80-9105-21fe73c2dc6d",
   "metadata": {},
   "source": [
    "# 24)"
   ]
  },
  {
   "cell_type": "code",
   "execution_count": 48,
   "id": "573a8d69-6668-4e0d-9004-4ceaa4990d18",
   "metadata": {},
   "outputs": [],
   "source": [
    "def Stone_paper_scisor():\n",
    "    options=[ \"stone\", \"paper\", \"scissor\"]\n",
    "    n=-1\n",
    "    while(True):\n",
    "        computer_choice = random.choice(options)\n",
    "        print(\"enter your choice:\\n0 for stone\\n1for paper\\n2for scissor\")\n",
    "        n=int(input())\n",
    "        print(\"computer:\",computer_choice,\"you:\",n)\n",
    "        if((n==0 and computer_choice=='stone') or( n==1 and computer_choice=='paper')or (n==0 and computer_choice=='scissor')):\n",
    "            print(\"tie try again!\")\n",
    "        elif(n==0 and computer_choice=='paper'):\n",
    "            print(\"computer wins\")\n",
    "            break\n",
    "        elif(n==0 and computer_choice=='scissor'):\n",
    "            print(\"you wins\")\n",
    "            break\n",
    "        elif(n==1 and computer_choice=='stone'):\n",
    "            print('you wins')\n",
    "            break\n",
    "        elif(n==1 and computer_choice=='scissor'):\n",
    "            print('computer wins')\n",
    "            break\n",
    "        elif(n==2 and computer_choice=='paper'):\n",
    "            print('you wins')\n",
    "            break\n",
    "        elif(n==2 and computer_choice=='stone'):\n",
    "            print(\"computer wins\")\n",
    "            break\n",
    "                  \n",
    "            \n",
    "            \n",
    "        \n",
    "    \n",
    "        \n",
    "        \n",
    "        \n",
    "        "
   ]
  },
  {
   "cell_type": "code",
   "execution_count": 49,
   "id": "cc7f660b-073a-4bb5-b504-58badc1557d2",
   "metadata": {},
   "outputs": [
    {
     "name": "stdout",
     "output_type": "stream",
     "text": [
      "enter your choice:\n",
      "0 for stone\n",
      "1for paper\n",
      "2for scissor\n"
     ]
    },
    {
     "name": "stdin",
     "output_type": "stream",
     "text": [
      " 1\n"
     ]
    },
    {
     "name": "stdout",
     "output_type": "stream",
     "text": [
      "computer: paper you: 1\n",
      "tie try again!\n",
      "enter your choice:\n",
      "0 for stone\n",
      "1for paper\n",
      "2for scissor\n"
     ]
    },
    {
     "name": "stdin",
     "output_type": "stream",
     "text": [
      " 1\n"
     ]
    },
    {
     "name": "stdout",
     "output_type": "stream",
     "text": [
      "computer: paper you: 1\n",
      "tie try again!\n",
      "enter your choice:\n",
      "0 for stone\n",
      "1for paper\n",
      "2for scissor\n"
     ]
    },
    {
     "name": "stdin",
     "output_type": "stream",
     "text": [
      " 1\n"
     ]
    },
    {
     "name": "stdout",
     "output_type": "stream",
     "text": [
      "computer: scissor you: 1\n",
      "computer wins\n"
     ]
    }
   ],
   "source": [
    "Stone_paper_scisor()"
   ]
  },
  {
   "cell_type": "code",
   "execution_count": 62,
   "id": "fbfa84b4-3006-49dd-aa7d-0f9c78b181ab",
   "metadata": {},
   "outputs": [
    {
     "name": "stdout",
     "output_type": "stream",
     "text": [
      "Collecting pandoc\n",
      "  Downloading pandoc-2.3.tar.gz (33 kB)\n",
      "  Preparing metadata (setup.py): started\n",
      "  Preparing metadata (setup.py): finished with status 'done'\n",
      "Collecting plumbum\n",
      "  Downloading plumbum-1.8.1-py3-none-any.whl (126 kB)\n",
      "     ------------------------------------ 126.7/126.7 kB 133.1 kB/s eta 0:00:00\n",
      "Collecting ply\n",
      "  Downloading ply-3.11-py2.py3-none-any.whl (49 kB)\n",
      "     -------------------------------------- 49.6/49.6 kB 109.5 kB/s eta 0:00:00\n",
      "Requirement already satisfied: pywin32 in c:\\users\\sumit\\anaconda3\\lib\\site-packages (from plumbum->pandoc) (302)\n",
      "Building wheels for collected packages: pandoc\n",
      "  Building wheel for pandoc (setup.py): started\n",
      "  Building wheel for pandoc (setup.py): finished with status 'done'\n",
      "  Created wheel for pandoc: filename=pandoc-2.3-py3-none-any.whl size=33263 sha256=ae6e8616a0df7f87aa49c33dfce750e1fe12556ec932c79b492264b58f84cbe3\n",
      "  Stored in directory: c:\\users\\sumit\\appdata\\local\\pip\\cache\\wheels\\69\\e6\\a1\\1daa96d919c9e09a71473649b717b8da286f3f8d7719d1cfc5\n",
      "Successfully built pandoc\n",
      "Installing collected packages: ply, plumbum, pandoc\n",
      "Successfully installed pandoc-2.3 plumbum-1.8.1 ply-3.11\n"
     ]
    }
   ],
   "source": [
    "!pip install pandoc"
   ]
  },
  {
   "cell_type": "code",
   "execution_count": 63,
   "id": "3eb42afa-844a-4b73-8094-91e59ce1f205",
   "metadata": {},
   "outputs": [
    {
     "name": "stdout",
     "output_type": "stream",
     "text": [
      "Requirement already satisfied: Pandoc in c:\\users\\sumit\\anaconda3\\lib\\site-packages (2.3)\n",
      "Requirement already satisfied: ply in c:\\users\\sumit\\anaconda3\\lib\\site-packages (from Pandoc) (3.11)\n",
      "Requirement already satisfied: plumbum in c:\\users\\sumit\\anaconda3\\lib\\site-packages (from Pandoc) (1.8.1)\n",
      "Requirement already satisfied: pywin32 in c:\\users\\sumit\\anaconda3\\lib\\site-packages (from plumbum->Pandoc) (302)\n",
      "Note: you may need to restart the kernel to use updated packages.\n"
     ]
    }
   ],
   "source": [
    "pip install Pandoc"
   ]
  },
  {
   "cell_type": "code",
   "execution_count": 1,
   "id": "ed390f06-ffc7-477d-8a61-b5e6eba57ac0",
   "metadata": {},
   "outputs": [
    {
     "name": "stdout",
     "output_type": "stream",
     "text": [
      "Requirement already satisfied: nbconvert in c:\\users\\sumit\\anaconda3\\lib\\site-packages (6.4.4)\n",
      "Requirement already satisfied: pygments>=2.4.1 in c:\\users\\sumit\\anaconda3\\lib\\site-packages (from nbconvert) (2.11.2)\n",
      "Requirement already satisfied: jupyterlab-pygments in c:\\users\\sumit\\anaconda3\\lib\\site-packages (from nbconvert) (0.1.2)\n",
      "Requirement already satisfied: beautifulsoup4 in c:\\users\\sumit\\anaconda3\\lib\\site-packages (from nbconvert) (4.11.1)\n",
      "Requirement already satisfied: bleach in c:\\users\\sumit\\anaconda3\\lib\\site-packages (from nbconvert) (4.1.0)\n",
      "Requirement already satisfied: jinja2>=2.4 in c:\\users\\sumit\\anaconda3\\lib\\site-packages (from nbconvert) (2.11.3)\n",
      "Requirement already satisfied: mistune<2,>=0.8.1 in c:\\users\\sumit\\anaconda3\\lib\\site-packages (from nbconvert) (0.8.4)\n",
      "Requirement already satisfied: nbclient<0.6.0,>=0.5.0 in c:\\users\\sumit\\anaconda3\\lib\\site-packages (from nbconvert) (0.5.13)\n",
      "Requirement already satisfied: jupyter-core in c:\\users\\sumit\\anaconda3\\lib\\site-packages (from nbconvert) (4.11.1)\n",
      "Requirement already satisfied: entrypoints>=0.2.2 in c:\\users\\sumit\\anaconda3\\lib\\site-packages (from nbconvert) (0.4)\n",
      "Requirement already satisfied: testpath in c:\\users\\sumit\\anaconda3\\lib\\site-packages (from nbconvert) (0.6.0)\n",
      "Requirement already satisfied: nbformat>=4.4 in c:\\users\\sumit\\anaconda3\\lib\\site-packages (from nbconvert) (5.7.0)\n",
      "Requirement already satisfied: traitlets>=5.0 in c:\\users\\sumit\\anaconda3\\lib\\site-packages (from nbconvert) (5.1.1)\n",
      "Requirement already satisfied: pandocfilters>=1.4.1 in c:\\users\\sumit\\anaconda3\\lib\\site-packages (from nbconvert) (1.5.0)\n",
      "Requirement already satisfied: defusedxml in c:\\users\\sumit\\anaconda3\\lib\\site-packages (from nbconvert) (0.7.1)\n",
      "Requirement already satisfied: MarkupSafe>=0.23 in c:\\users\\sumit\\anaconda3\\lib\\site-packages (from jinja2>=2.4->nbconvert) (2.0.1)\n",
      "Requirement already satisfied: nest-asyncio in c:\\users\\sumit\\anaconda3\\lib\\site-packages (from nbclient<0.6.0,>=0.5.0->nbconvert) (1.5.5)\n",
      "Requirement already satisfied: jupyter-client>=6.1.5 in c:\\users\\sumit\\anaconda3\\lib\\site-packages (from nbclient<0.6.0,>=0.5.0->nbconvert) (7.3.4)\n",
      "Requirement already satisfied: fastjsonschema in c:\\users\\sumit\\anaconda3\\lib\\site-packages (from nbformat>=4.4->nbconvert) (2.16.2)\n",
      "Requirement already satisfied: jsonschema>=2.6 in c:\\users\\sumit\\anaconda3\\lib\\site-packages (from nbformat>=4.4->nbconvert) (4.16.0)\n",
      "Requirement already satisfied: soupsieve>1.2 in c:\\users\\sumit\\anaconda3\\lib\\site-packages (from beautifulsoup4->nbconvert) (2.3.1)\n",
      "Requirement already satisfied: webencodings in c:\\users\\sumit\\anaconda3\\lib\\site-packages (from bleach->nbconvert) (0.5.1)\n",
      "Requirement already satisfied: six>=1.9.0 in c:\\users\\sumit\\anaconda3\\lib\\site-packages (from bleach->nbconvert) (1.16.0)\n",
      "Requirement already satisfied: packaging in c:\\users\\sumit\\anaconda3\\lib\\site-packages (from bleach->nbconvert) (21.3)\n",
      "Requirement already satisfied: pywin32>=1.0 in c:\\users\\sumit\\anaconda3\\lib\\site-packages (from jupyter-core->nbconvert) (302)\n",
      "Requirement already satisfied: attrs>=17.4.0 in c:\\users\\sumit\\anaconda3\\lib\\site-packages (from jsonschema>=2.6->nbformat>=4.4->nbconvert) (21.4.0)\n",
      "Requirement already satisfied: pyrsistent!=0.17.0,!=0.17.1,!=0.17.2,>=0.14.0 in c:\\users\\sumit\\anaconda3\\lib\\site-packages (from jsonschema>=2.6->nbformat>=4.4->nbconvert) (0.18.0)\n",
      "Requirement already satisfied: tornado>=6.0 in c:\\users\\sumit\\anaconda3\\lib\\site-packages (from jupyter-client>=6.1.5->nbclient<0.6.0,>=0.5.0->nbconvert) (6.3.1)\n",
      "Requirement already satisfied: pyzmq>=23.0 in c:\\users\\sumit\\anaconda3\\lib\\site-packages (from jupyter-client>=6.1.5->nbclient<0.6.0,>=0.5.0->nbconvert) (23.2.0)\n",
      "Requirement already satisfied: python-dateutil>=2.8.2 in c:\\users\\sumit\\anaconda3\\lib\\site-packages (from jupyter-client>=6.1.5->nbclient<0.6.0,>=0.5.0->nbconvert) (2.8.2)\n",
      "Requirement already satisfied: pyparsing!=3.0.5,>=2.0.2 in c:\\users\\sumit\\anaconda3\\lib\\site-packages (from packaging->bleach->nbconvert) (3.0.9)\n",
      "Note: you may need to restart the kernel to use updated packages.\n"
     ]
    }
   ],
   "source": [
    "pip install nbconvert"
   ]
  },
  {
   "cell_type": "code",
   "execution_count": null,
   "id": "061498c7-955b-49b9-9cbd-89f36120e088",
   "metadata": {},
   "outputs": [],
   "source": []
  }
 ],
 "metadata": {
  "kernelspec": {
   "display_name": "Python 3 (ipykernel)",
   "language": "python",
   "name": "python3"
  },
  "language_info": {
   "codemirror_mode": {
    "name": "ipython",
    "version": 3
   },
   "file_extension": ".py",
   "mimetype": "text/x-python",
   "name": "python",
   "nbconvert_exporter": "python",
   "pygments_lexer": "ipython3",
   "version": "3.9.13"
  }
 },
 "nbformat": 4,
 "nbformat_minor": 5
}
